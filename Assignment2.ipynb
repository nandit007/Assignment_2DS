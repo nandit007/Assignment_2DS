{
 "cells": [
  {
   "cell_type": "code",
   "execution_count": 1,
   "id": "7c6aeade-8b6a-4b63-9e96-8cf0e31ae9cc",
   "metadata": {},
   "outputs": [],
   "source": [
    "import logging"
   ]
  },
  {
   "cell_type": "code",
   "execution_count": 2,
   "id": "fb19ae07-5ae5-47b4-a3b8-74597351e50a",
   "metadata": {},
   "outputs": [],
   "source": [
    "logging.basicConfig(filename='Assignment2.log',level=logging.DEBUG)"
   ]
  },
  {
   "cell_type": "code",
   "execution_count": 5,
   "id": "a51c4dd5-3672-4f1a-89db-ca8455a8ce2b",
   "metadata": {},
   "outputs": [
    {
     "name": "stdout",
     "output_type": "stream",
     "text": [
      "DEF keyword is used to create a function.\n",
      "1\n",
      "3\n",
      "5\n",
      "7\n",
      "9\n",
      "11\n",
      "13\n",
      "15\n",
      "17\n",
      "19\n",
      "21\n",
      "23\n",
      "25\n"
     ]
    }
   ],
   "source": [
    "#QUE.1\n",
    "logging.info(\"DEF keyword is used to create a function.\")\n",
    "print(\"DEF keyword is used to create a function.\")\n",
    "#for odd numbers between 1-25:\n",
    "def od():\n",
    "    for i in range(1,26,2):\n",
    "        print(i)\n",
    "        logging.info(i)\n",
    "od()        "
   ]
  },
  {
   "cell_type": "code",
   "execution_count": 11,
   "id": "1eb110b0-8d34-441b-b4a2-834bfcb4a5a5",
   "metadata": {},
   "outputs": [
    {
     "name": "stdout",
     "output_type": "stream",
     "text": [
      "You can use *args and **kwargs as arguments of a function when you are unsure about the number of arguments to pass in the functions.\n",
      "('I', 'am', 'the', 'best')\n",
      "('I', 'am', 'the', 'best')\n",
      "('I', 'am', 'the', 'best')\n",
      "('I', 'am', 'the', 'best')\n",
      "first == am\n",
      "mid == the\n",
      "last == best\n"
     ]
    }
   ],
   "source": [
    "#QUE.2\n",
    "logging.info(\"You can use *args and **kwargs as arguments of a function when you are unsure about the number of arguments to pass in the functions.\")\n",
    "print(\"You can use *args and **kwargs as arguments of a function when you are unsure about the number of arguments to pass in the functions.\")\n",
    "# for *args:\n",
    "def yoo(*args):\n",
    "    for i in args:\n",
    "        print(args)\n",
    "        \n",
    "yoo('I','am','the','best')     \n",
    "\n",
    "#for **kwarg\n",
    "def myFun(arg1, **kwargs):\n",
    "    for key, value in kwargs.items():\n",
    "        print(\"%s == %s\" % (key, value))\n",
    "\n",
    "myFun(\"I\", first='am', mid='the', last='best')\n",
    "        "
   ]
  },
  {
   "cell_type": "code",
   "execution_count": 12,
   "id": "47441e0f-b7d7-4887-a89f-9d6b042fdc20",
   "metadata": {},
   "outputs": [
    {
     "name": "stdout",
     "output_type": "stream",
     "text": [
      "An iterator is an object that contains a countable number of values. An iterator is an object that can be iterated upon, meaning that you can traverse through all the values.\n"
     ]
    },
    {
     "data": {
      "text/plain": [
       "[2, 4, 6, 8, 10]"
      ]
     },
     "execution_count": 12,
     "metadata": {},
     "output_type": "execute_result"
    }
   ],
   "source": [
    "#QUE.3\n",
    "logging.info(\"An iterator is an object that contains a countable number of values. An iterator is an object that can be iterated upon, meaning that you can traverse through all the values.\")\n",
    "print(\"An iterator is an object that contains a countable number of values. An iterator is an object that can be iterated upon, meaning that you can traverse through all the values.\")\n",
    "logging.info(\"These methods can be __next__ , __iter__,we can also use slicing method.\")\n",
    "a=[2, 4, 6, 8, 10, 12, 14,\n",
    "16, 18, 20]\n",
    "a[0:5]"
   ]
  },
  {
   "cell_type": "code",
   "execution_count": 13,
   "id": "f779cd08-f8fd-4df8-b27a-fc7df2a30c52",
   "metadata": {},
   "outputs": [
    {
     "name": "stdout",
     "output_type": "stream",
     "text": [
      "In Python, a generator is a function that returns an iterator that produces a sequence of values when iterated over. Generators are useful when we want to produce a large sequence of values, but we don't want to store all of them in memory at once.\n",
      "The yield keyword in Python controls the flow of a generator function. This is similar to a return statement used for returning values in Python\n",
      "0\n",
      "1\n",
      "2\n",
      "3\n",
      "4\n",
      "5\n",
      "6\n",
      "7\n",
      "8\n",
      "9\n"
     ]
    }
   ],
   "source": [
    "#QUE.4\n",
    "logging.info(\"In Python, a generator is a function that returns an iterator that produces a sequence of values when iterated over. Generators are useful when we want to produce a large sequence of values, but we don't want to store all of them in memory at once.\")\n",
    "print(\"In Python, a generator is a function that returns an iterator that produces a sequence of values when iterated over. Generators are useful when we want to produce a large sequence of values, but we don't want to store all of them in memory at once.\")\n",
    "logging.info(\"The yield keyword in Python controls the flow of a generator function. This is similar to a return statement used for returning values in Python\")\n",
    "print('The yield keyword in Python controls the flow of a generator function. This is similar to a return statement used for returning values in Python')\n",
    "\n",
    "def generatorr():\n",
    "    t=0\n",
    "    while(t<10):\n",
    "        yield t\n",
    "        t=t+1\n",
    "\n",
    "for i in generatorr():\n",
    "    print(i)  \n",
    "    logging.info(i)"
   ]
  },
  {
   "cell_type": "code",
   "execution_count": 32,
   "id": "d2787e42-9604-498f-b0e8-6296eeebebfb",
   "metadata": {},
   "outputs": [
    {
     "name": "stdout",
     "output_type": "stream",
     "text": [
      "2\n",
      "3\n",
      "5\n",
      "7\n",
      "11\n",
      "13\n",
      "17\n",
      "19\n",
      "23\n",
      "29\n",
      "31\n",
      "37\n",
      "41\n",
      "43\n",
      "47\n",
      "53\n",
      "59\n",
      "61\n",
      "67\n",
      "71\n",
      "73\n",
      "79\n",
      "83\n",
      "89\n",
      "97\n"
     ]
    }
   ],
   "source": [
    "#Que.5\n",
    "def Prime_no():\n",
    "    t=2\n",
    "    c=0\n",
    "    for i in range(2,100):\n",
    "        for j in range(2,i+1):\n",
    "            if i%j==0:\n",
    "                c=c+1\n",
    "        if c==1:\n",
    "            yield i\n",
    "        c=0   \n",
    "for i in Prime_no():\n",
    "    print(i)\n",
    "\n",
    "    "
   ]
  },
  {
   "cell_type": "code",
   "execution_count": 35,
   "id": "92f1fb76-b471-410f-81a7-4be80043d50b",
   "metadata": {},
   "outputs": [
    {
     "name": "stdout",
     "output_type": "stream",
     "text": [
      "0\n",
      "1\n",
      "1\n",
      "2\n",
      "3\n",
      "5\n",
      "8\n",
      "13\n",
      "21\n",
      "34\n"
     ]
    }
   ],
   "source": [
    "#Que.6\n",
    "a=0\n",
    "b=1\n",
    "n=1\n",
    "while(n<11):\n",
    "    print(a)\n",
    "    logging.info(a)\n",
    "    c=a\n",
    "    a=b\n",
    "    b=c+b\n",
    "    n=n+1\n"
   ]
  },
  {
   "cell_type": "code",
   "execution_count": 62,
   "id": "df71490c-8b24-479c-960b-5278d3d7a159",
   "metadata": {},
   "outputs": [
    {
     "data": {
      "text/plain": [
       "['p', 'w', 's', 'k', 'i', 'l', 'l', 's']"
      ]
     },
     "execution_count": 62,
     "metadata": {},
     "output_type": "execute_result"
    }
   ],
   "source": [
    "#Que.7\n",
    "l='pwskills'\n",
    "l1=iter(l)\n",
    "l2=[4,8,6,2,6,5,2,5]\n",
    "for i in range(0,len(l)):\n",
    "    l2[i]=next(l1)\n",
    "l2    "
   ]
  },
  {
   "cell_type": "code",
   "execution_count": 64,
   "id": "6911b165-5ffb-4f88-a38a-3e52a1918f03",
   "metadata": {},
   "outputs": [
    {
     "name": "stdin",
     "output_type": "stream",
     "text": [
      "Enter the number:  1005001\n"
     ]
    },
    {
     "name": "stdout",
     "output_type": "stream",
     "text": [
      "It's a pailindrome\n"
     ]
    }
   ],
   "source": [
    "#Que.8\n",
    "inputt=int(input(\"Enter the number: \"))\n",
    "s=str(inputt)\n",
    "if s==s[::-1]:\n",
    "    logging.info(\"It's a pailindrome\")\n",
    "    print(\"It's a pailindrome\")\n",
    "else:\n",
    "    logging.info('Its not a pailindrome')\n",
    "    print('Its not a pailindrome')\n"
   ]
  },
  {
   "cell_type": "code",
   "execution_count": 68,
   "id": "fc6b2b20-86b6-4d14-85cc-5e1f6a02a4ab",
   "metadata": {},
   "outputs": [
    {
     "data": {
      "text/plain": [
       "[1,\n",
       " 3,\n",
       " 5,\n",
       " 7,\n",
       " 9,\n",
       " 11,\n",
       " 13,\n",
       " 15,\n",
       " 17,\n",
       " 19,\n",
       " 21,\n",
       " 23,\n",
       " 25,\n",
       " 27,\n",
       " 29,\n",
       " 31,\n",
       " 33,\n",
       " 35,\n",
       " 37,\n",
       " 39,\n",
       " 41,\n",
       " 43,\n",
       " 45,\n",
       " 47,\n",
       " 49,\n",
       " 51,\n",
       " 53,\n",
       " 55,\n",
       " 57,\n",
       " 59,\n",
       " 61,\n",
       " 63,\n",
       " 65,\n",
       " 67,\n",
       " 69,\n",
       " 71,\n",
       " 73,\n",
       " 75,\n",
       " 77,\n",
       " 79,\n",
       " 81,\n",
       " 83,\n",
       " 85,\n",
       " 87,\n",
       " 89,\n",
       " 91,\n",
       " 93,\n",
       " 95,\n",
       " 97,\n",
       " 99]"
      ]
     },
     "execution_count": 68,
     "metadata": {},
     "output_type": "execute_result"
    }
   ],
   "source": [
    "#Que.9\n",
    "l1=[i for i in range(1,101)]\n",
    "l2=[i for i in l1 if i%2!=0]\n",
    "l2"
   ]
  }
 ],
 "metadata": {
  "kernelspec": {
   "display_name": "Python 3 (ipykernel)",
   "language": "python",
   "name": "python3"
  },
  "language_info": {
   "codemirror_mode": {
    "name": "ipython",
    "version": 3
   },
   "file_extension": ".py",
   "mimetype": "text/x-python",
   "name": "python",
   "nbconvert_exporter": "python",
   "pygments_lexer": "ipython3",
   "version": "3.10.8"
  }
 },
 "nbformat": 4,
 "nbformat_minor": 5
}
